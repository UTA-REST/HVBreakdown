{
 "cells": [
  {
   "cell_type": "code",
   "execution_count": 1,
   "metadata": {},
   "outputs": [],
   "source": [
    "# High Voltage Breakdown Plotter\n",
    "# By: Logan Norman\n",
    "import matplotlib.pyplot as plt\n",
    "import numpy as np\n",
    "from scipy.optimize import curve_fit\n",
    "\n",
    "import pandas as pd\n",
    "from dataprocesser import processdat,processdatE"
   ]
  },
  {
   "cell_type": "code",
   "execution_count": 2,
   "metadata": {},
   "outputs": [],
   "source": [
    "\n",
    "# d = {'Gas': 'Ar',\n",
    "#      'Gap_Distance': '1mm',\n",
    "#      'Pressure_Range': 'AP',\n",
    "#      'Getter?':'yes',\n",
    "#      'Vacuum(mbar)':2.5e-6,\n",
    "#      'p':[[1,2,3,4,5,6,7,8,9,10]], \n",
    "#      'v':[[[1.9,1.9,1.9],[2.4,2.4,2.4],[3.2,3.0,3.0],[3.4,3.5,3.4],[3.8,3.3,3.8],[4.1,4.1,4.2],[4.4,4.4,4.4],[4.7,4.7,4.8],[5.1,5.1,5.2],[5.4,5.5,5.4]]]}\n",
    "\n",
    "# dfa = pd.DataFrame(data=d)\n",
    "\n",
    "# df2 = pd.read_hdf('HVBreakdowndata.h5')\n",
    "\n",
    "# df = df2.append(dfa)\n",
    "\n",
    "# df.to_hdf('HVBreakdowndata.h5', key = 'df', mode='w')\n",
    "\n",
    "# df2"
   ]
  },
  {
   "cell_type": "code",
   "execution_count": 3,
   "metadata": {
    "scrolled": true
   },
   "outputs": [],
   "source": [
    "df = pd.read_hdf('HVBreakdowndata.h5')"
   ]
  },
  {
   "cell_type": "code",
   "execution_count": 4,
   "metadata": {
    "scrolled": true
   },
   "outputs": [],
   "source": [
    "# df2 = df\n",
    "\n",
    "# df3 = pd.DataFrame()\n",
    "\n",
    "# for index in df2.index:\n",
    "    \n",
    "#     x1,x2,x3,x4,x5 = processdat(df2.loc[index,'p'],df2.loc[index,'v'],df2.loc[index,'Gap_Distance'],df2.loc[index,'Pressure_Range'])\n",
    "#     d2 = {'avev': [x1],'verr': [x2],'avep': [x3],'perr': [x4],'trend': [x5]}\n",
    "#     dfa = pd.DataFrame(data=d2)\n",
    "    \n",
    "#     df3 = df3.append(dfa, ignore_index = True)\n",
    "\n",
    "# df2['avev'] = df3['avev']\n",
    "# df2['verr'] = df3['verr']\n",
    "# df2['avep'] = df3['avep']\n",
    "# df2['perr'] = df3['perr']\n",
    "# df2['trend'] = df3['trend']\n",
    "\n",
    "# df2.to_hdf('processedHVdata.h5', key='df', mode='w')\n"
   ]
  },
  {
   "cell_type": "code",
   "execution_count": 5,
   "metadata": {},
   "outputs": [],
   "source": [
    "dfp = pd.read_hdf('processedHVdata.h5')"
   ]
  },
  {
   "cell_type": "code",
   "execution_count": 109,
   "metadata": {
    "scrolled": false
   },
   "outputs": [
    {
     "ename": "NameError",
     "evalue": "name 'x4a' is not defined",
     "output_type": "error",
     "traceback": [
      "\u001b[1;31m---------------------------------------------------------------------------\u001b[0m",
      "\u001b[1;31mNameError\u001b[0m                                 Traceback (most recent call last)",
      "\u001b[1;32m<ipython-input-109-b88b4449193b>\u001b[0m in \u001b[0;36m<module>\u001b[1;34m\u001b[0m\n\u001b[0;32m      7\u001b[0m \u001b[1;31m# plt.scatter(x3a,y3a,  color='tomato', marker='o', s=56, label='2cm Spacing - Argon')\u001b[0m\u001b[1;33m\u001b[0m\u001b[1;33m\u001b[0m\u001b[1;33m\u001b[0m\u001b[0m\n\u001b[0;32m      8\u001b[0m \u001b[1;33m\u001b[0m\u001b[0m\n\u001b[1;32m----> 9\u001b[1;33m \u001b[0mplt\u001b[0m\u001b[1;33m.\u001b[0m\u001b[0merrorbar\u001b[0m\u001b[1;33m(\u001b[0m\u001b[0mx4a\u001b[0m\u001b[1;33m,\u001b[0m \u001b[0my4a\u001b[0m\u001b[1;33m,\u001b[0m \u001b[0mxerr\u001b[0m\u001b[1;33m=\u001b[0m\u001b[0mxerr4\u001b[0m\u001b[1;33m,\u001b[0m \u001b[0myerr\u001b[0m\u001b[1;33m=\u001b[0m\u001b[0myerr4\u001b[0m\u001b[1;33m,\u001b[0m \u001b[0mls\u001b[0m\u001b[1;33m=\u001b[0m\u001b[1;34m''\u001b[0m\u001b[1;33m,\u001b[0m \u001b[0mcolor\u001b[0m\u001b[1;33m=\u001b[0m\u001b[1;34m'dodgerblue'\u001b[0m\u001b[1;33m,\u001b[0m \u001b[0mmarker\u001b[0m\u001b[1;33m=\u001b[0m\u001b[1;34m'^'\u001b[0m\u001b[1;33m,\u001b[0m \u001b[0mms\u001b[0m\u001b[1;33m=\u001b[0m\u001b[1;36m8\u001b[0m\u001b[1;33m,\u001b[0m \u001b[0mlabel\u001b[0m\u001b[1;33m=\u001b[0m\u001b[1;34m'1mm Spacing - Argon CO2'\u001b[0m\u001b[1;33m)\u001b[0m\u001b[1;33m\u001b[0m\u001b[1;33m\u001b[0m\u001b[0m\n\u001b[0m\u001b[0;32m     10\u001b[0m \u001b[1;31m# plt.scatter(x4a, y4a,color='dodgerblue', marker='^', s=56, label='1mm Spacing - Argon CO2')\u001b[0m\u001b[1;33m\u001b[0m\u001b[1;33m\u001b[0m\u001b[1;33m\u001b[0m\u001b[0m\n\u001b[0;32m     11\u001b[0m \u001b[0mplt\u001b[0m\u001b[1;33m.\u001b[0m\u001b[0merrorbar\u001b[0m\u001b[1;33m(\u001b[0m\u001b[0mx5a\u001b[0m\u001b[1;33m,\u001b[0m \u001b[0my5a\u001b[0m\u001b[1;33m,\u001b[0m \u001b[0mxerr\u001b[0m\u001b[1;33m=\u001b[0m\u001b[0mxerr5\u001b[0m\u001b[1;33m,\u001b[0m \u001b[0myerr\u001b[0m\u001b[1;33m=\u001b[0m\u001b[0myerr5\u001b[0m\u001b[1;33m,\u001b[0m \u001b[0mls\u001b[0m\u001b[1;33m=\u001b[0m\u001b[1;34m''\u001b[0m\u001b[1;33m,\u001b[0m \u001b[0mcolor\u001b[0m\u001b[1;33m=\u001b[0m\u001b[1;34m'blueviolet'\u001b[0m\u001b[1;33m,\u001b[0m \u001b[0mmarker\u001b[0m\u001b[1;33m=\u001b[0m\u001b[1;34m'^'\u001b[0m\u001b[1;33m,\u001b[0m \u001b[0mms\u001b[0m\u001b[1;33m=\u001b[0m\u001b[1;36m8\u001b[0m\u001b[1;33m)\u001b[0m\u001b[1;33m\u001b[0m\u001b[1;33m\u001b[0m\u001b[0m\n",
      "\u001b[1;31mNameError\u001b[0m: name 'x4a' is not defined"
     ]
    },
    {
     "data": {
      "image/png": "[encoded data removed]",
      "text/plain": [
       "<Figure size 432x288 with 1 Axes>"
      ]
     },
     "metadata": {
      "needs_background": "light"
     },
     "output_type": "display_data"
    }
   ],
   "source": [
    "fig, ax = plt.subplots()\n",
    "# plt.errorbar(x1a, y1a, xerr=xerr1, yerr=yerr1, ls='', color='dodgerblue', marker='o', ms=8)\n",
    "# plt.scatter(x1a, y1a,color='dodgerblue', marker='o', s=56, label='2cm Spacing - Argon CO2')\n",
    "# plt.errorbar(x2a, y2a, xerr=xerr2, yerr=yerr2, ls='', color='blueviolet', marker='o', ms=8)\n",
    "# plt.scatter(x2a, y2a,color='blueviolet', marker='o', s=56, label='2cm Spacing - Argon CH4')\n",
    "# plt.errorbar(x3a,y3a, xerr=xerr3, yerr=yerr3, ls='', color='tomato', marker='o', ms=8)\n",
    "# plt.scatter(x3a,y3a,  color='tomato', marker='o', s=56, label='2cm Spacing - Argon')\n",
    "\n",
    "plt.errorbar(x4a, y4a, xerr=xerr4, yerr=yerr4, ls='', color='dodgerblue', marker='^', ms=8, label='1mm Spacing - Argon CO2')\n",
    "# plt.scatter(x4a, y4a,color='dodgerblue', marker='^', s=56, label='1mm Spacing - Argon CO2')\n",
    "plt.errorbar(x5a, y5a, xerr=xerr5, yerr=yerr5, ls='', color='blueviolet', marker='^', ms=8)\n",
    "plt.scatter(x5a, y5a,color='blueviolet', marker='^', s=56, label='1mm Spacing - Argon CH4')\n",
    "plt.errorbar(x24a, y24a, xerr=xerr24, yerr=yerr24, ls='', color='red', marker='^', ms=8)\n",
    "plt.scatter(x24a, y24a,color='red', marker='^', s=56, label='1mm Spacing - Argon CH4')\n",
    "plt.errorbar(x6a, y6a, xerr=xerr6, yerr=yerr6, ls='', color='tomato', marker='^', ms=8)\n",
    "plt.scatter(x6a, y6a,color='tomato', marker='^', s=56, label='1mm Spacing - Argon')\n",
    "plt.errorbar(x20a, y20a, xerr=xerr20, yerr=yerr20, ls='', color='limegreen', marker='^', ms=8)\n",
    "plt.scatter(x20a, y20a,color='limegreen', marker='^', s=56, label='1mm Spacing - CO2')\n",
    "\n",
    "plt.errorbar(x7a, y7a, xerr=xerr7, yerr=yerr7, ls='', color='dodgerblue', marker='s', ms=8)\n",
    "plt.scatter(x7a, y7a,color='dodgerblue', marker='s', s=56, label='1cm Spacing - Argon CO2')\n",
    "plt.errorbar(x8a, y8a, xerr=xerr8, yerr=yerr8, ls='', color='blueviolet', marker='s', ms=8)\n",
    "plt.scatter(x8a, y8a,color='blueviolet', marker='s', s=56, label='1cm Spacing - Argon CH4')\n",
    "plt.errorbar(x25a, y25a, xerr=xerr25, yerr=yerr25, ls='', color='red', marker='s', ms=8)\n",
    "plt.scatter(x25a, y25a,color='red', marker='s', s=56, label='1cm Spacing - Argon CH4')\n",
    "plt.errorbar(x9a, y9a, xerr=xerr9, yerr=yerr9, ls='', color='tomato', marker='s', ms=8)\n",
    "plt.scatter(x9a, y9a,color='tomato', marker='s', s=56, label='1cm Spacing - Argon')\n",
    "plt.errorbar(x22a, y22a, xerr=xerr22, yerr=yerr22, ls='', color='limegreen', marker='s', ms=8)\n",
    "plt.scatter(x22a, y22a,color='limegreen', marker='s', s=56, label='1cm Spacing - CO2')\n",
    "\n",
    "# plt.errorbar(x10a, y10a, xerr=xerr10, yerr=yerr10, ls='', color='dodgerblue', marker='X', ms=10)\n",
    "# plt.scatter(x10a, y10a,color='dodgerblue', marker='X', s=56, label='5mm Spacing - Argon CO2')\n",
    "# plt.errorbar(x11a, y11a, xerr=0.25, yerr=yerr11, ls='', color='blueviolet', marker='X', ms=10)\n",
    "# plt.scatter(x11a, y11a,color='blueviolet', marker='X', s=56, label='5 mm Spacing - Argon CH4')\n",
    "# plt.errorbar(x12a, y12a, xerr=xerr12, yerr=yerr12, ls='', color='tomato', marker='X', ms=10)\n",
    "# plt.scatter(x12a, y12a,color='tomato', marker='X', s=56, label='5mm Spacing - Argon')\n",
    "\n",
    "plt.errorbar(x19a, y19a, xerr=xerr19, yerr=yerr19, ls='', color='limegreen', marker='.', ms=10)\n",
    "plt.scatter(x19a, y19a,color='limegreen', marker='.', s=56, label='1mm Spacing - CO2')\n",
    "plt.errorbar(x15a,y15a, xerr=xerr15, yerr=yerr15, ls='', color='tomato', marker='.', ms=10)\n",
    "plt.scatter(x15a,y15a,  color='tomato', marker='.', s=56, label='1mm Spacing - Argon')\n",
    "plt.errorbar(x21a, y21a, xerr=xerr21, yerr=yerr21, ls='', color='dodgerblue', marker='.', ms=10)\n",
    "plt.scatter(x21a, y21a,color='dodgerblue', marker='.', s=56, label='1mm Spacing - Argon CO2')\n",
    "plt.errorbar(x23a, y23a, xerr=xerr23, yerr=yerr23, ls='', color='blueviolet', marker='.', ms=10)\n",
    "plt.scatter(x23a, y23a,color='blueviolet', marker='.', s=56, label='1mm Spacing - Argon CH4')\n",
    "\n",
    "ax.set_yscale('log')\n",
    "ax.set_xscale('log')\n",
    "fig.set_figheight(10)\n",
    "fig.set_figwidth(15)\n",
    "\n",
    "# ax.set_xlim([1e-2,30])\n",
    "\n",
    "plt.xlabel('Pressure-Length, torr-cm', fontsize=24)\n",
    "plt.ylabel('Voltage at Breakdown, V', fontsize=24)\n",
    "plt.legend(fontsize=18, borderaxespad=1, loc=\"best\")\n",
    "plt.xticks(fontsize=20)\n",
    "plt.yticks(fontsize=20)\n",
    "# plt.grid()\n",
    "\n",
    "plt.tight_layout()\n",
    "# plt.savefig('logplot.png', dpi=400)\n",
    "\n",
    "# plt.scatter(p*d, Vb)\n",
    "\n",
    "plt.show()\n"
   ]
  },
  {
   "cell_type": "code",
   "execution_count": 103,
   "metadata": {},
   "outputs": [],
   "source": [
    "p = np.arange(.4, 1e4, .01)\n",
    "d = 1\n",
    "gammase = .01\n",
    "# Aco = 12\n",
    "# Bco = 203\n",
    "Aco = 12\n",
    "Bco = 180\n",
    "Cco = 946.205\n",
    "k=.86\n",
    "# k=.78\n",
    "\n",
    "Vb = 1*p*Bco/(np.log(Aco*p*1/np.log(1+1/gammase))) #OG Paschen Curve\n",
    "\n",
    "Vb2 = 1*p*Bco/(np.log(Aco*p*1/np.log(10^8))) #Meek Criterion Paschen Curve\n",
    "\n",
    "# Vb3 = 1*p**k*Bco/(np.log(1*p*Aco/np.log(1+1/gammase)-p*Aco/Cco)) #Modified Paschen Formula\n",
    "\n"
   ]
  },
  {
   "cell_type": "code",
   "execution_count": 104,
   "metadata": {},
   "outputs": [
    {
     "name": "stdout",
     "output_type": "stream",
     "text": [
      "[0.0353  0.0359  0.024   0.027   0.0345  0.04    0.0442  0.03553 0.0519\n",
      " 0.0456  0.0536  0.0552  0.046   0.0365  0.0467  0.0553  0.0525  0.0648\n",
      " 0.0476 ]\n",
      "19\n",
      "19\n"
     ]
    }
   ],
   "source": [
    "pd_10mil = np.array([75.819,  66.675,  56.9595, 47.625,  37.9095, 27.813,  19.05,   17.3355, 15.24,\n",
    " 13.335,  11.43,    9.525,   7.62,    5.5245,  3.2385])\n",
    "v_10mil = np.array([1033.33333333,  951.66666667,  856.66666667,  780.,          691.66666667,\n",
    "  570.,          450.,          426.33333333,  397.33333333,  371.66666667,\n",
    "  344.33333333,  316.33333333,  285.66666667,  257.33333333,  221.66666667])\n",
    "pd10mil_err = np.array([7.58429284, 6.67022087, 5.69913473, 4.76630848, 3.79573341, 2.78781634,\n",
    " 1.91450131, 1.74398562, 1.5358601,  1.34703842, 1.15876626, 0.97136322,\n",
    " 0.78545162, 0.58437253, 0.37572473])\n",
    "v10mil_err = np.array([47.14045208, 18.40893503,  4.71404521,  4.0824829,   6.23609564,  4.0824829,\n",
    "  0.,          2.62466929,  1.88561808,  2.3570226,   0.47140452,  1.24721913,\n",
    "  3.09120617,  1.88561808,  1.24721913])\n",
    "\n",
    "lep = np.arange(1, 10.5, .5)\n",
    "ledat = np.array([[3.5,3.3,3.3,3.3],[4,3.8,3.8,3.9],[4.5,4.4,4.4,4.4],[4.8,5,4.9,5],[5.5,5.5,5.6,5.5],[6,6.1,6.1,6.1],[6.6,6.6,6.6,6.6],[7,7.1,7,7],[7.5,7.5,7.5,7.4],[8,8,7.9,7.9],[8.4,8.3,8.3,8.3],[8.6,8.7,8.6,8.7],[9,9,9.1,9],[9.4,9.3,9.4,9.3],[9.6,9.6,9.6,9.6],[9.9,9.9,10,9.9],[10.2,10.3,10.2,10.3],[10.5,10.5,10.5,10.5],[10.9,10.8,10.9,10.8]])\n",
    "ledatm = []\n",
    "\n",
    "for i in range(len(ledat)):\n",
    "    ledatm.append(np.mean(ledat[i], axis = 0)*1000)\n",
    "\n",
    "leerr = np.array([.0353,.0359,.024,.027,.0345,.04,.0442,.03553,.0519,.0456,.0536,.0552,.046,.0365,.0467,.0553,.0525,.0648,.0476])\n",
    "\n",
    "print(leerr)\n",
    "print(len(ledatm))\n",
    "print(len(lep))"
   ]
  },
  {
   "cell_type": "code",
   "execution_count": 107,
   "metadata": {
    "scrolled": false
   },
   "outputs": [
    {
     "ename": "NameError",
     "evalue": "name 'x6a' is not defined",
     "output_type": "error",
     "traceback": [
      "\u001b[1;31m---------------------------------------------------------------------------\u001b[0m",
      "\u001b[1;31mNameError\u001b[0m                                 Traceback (most recent call last)",
      "\u001b[1;32m<ipython-input-107-a42a5d8ae9f5>\u001b[0m in \u001b[0;36m<module>\u001b[1;34m\u001b[0m\n\u001b[0;32m      1\u001b[0m \u001b[0mfig\u001b[0m\u001b[1;33m,\u001b[0m \u001b[0max\u001b[0m \u001b[1;33m=\u001b[0m \u001b[0mplt\u001b[0m\u001b[1;33m.\u001b[0m\u001b[0msubplots\u001b[0m\u001b[1;33m(\u001b[0m\u001b[1;33m)\u001b[0m\u001b[1;33m\u001b[0m\u001b[1;33m\u001b[0m\u001b[0m\n\u001b[1;32m----> 2\u001b[1;33m \u001b[0mplt\u001b[0m\u001b[1;33m.\u001b[0m\u001b[0merrorbar\u001b[0m\u001b[1;33m(\u001b[0m\u001b[0mx6a\u001b[0m\u001b[1;33m,\u001b[0m \u001b[0my6a\u001b[0m\u001b[1;33m,\u001b[0m \u001b[0mxerr\u001b[0m\u001b[1;33m=\u001b[0m\u001b[0mxerr6\u001b[0m\u001b[1;33m,\u001b[0m \u001b[0myerr\u001b[0m\u001b[1;33m=\u001b[0m\u001b[0myerr6\u001b[0m\u001b[1;33m,\u001b[0m \u001b[0mls\u001b[0m\u001b[1;33m=\u001b[0m\u001b[1;34m''\u001b[0m\u001b[1;33m,\u001b[0m \u001b[0mcolor\u001b[0m\u001b[1;33m=\u001b[0m\u001b[1;34m'tomato'\u001b[0m\u001b[1;33m,\u001b[0m \u001b[0mmarker\u001b[0m\u001b[1;33m=\u001b[0m\u001b[1;34m'^'\u001b[0m\u001b[1;33m,\u001b[0m \u001b[0mms\u001b[0m\u001b[1;33m=\u001b[0m\u001b[1;36m8\u001b[0m\u001b[1;33m)\u001b[0m\u001b[1;33m\u001b[0m\u001b[1;33m\u001b[0m\u001b[0m\n\u001b[0m\u001b[0;32m      3\u001b[0m \u001b[0mplt\u001b[0m\u001b[1;33m.\u001b[0m\u001b[0mscatter\u001b[0m\u001b[1;33m(\u001b[0m\u001b[0mx6a\u001b[0m\u001b[1;33m,\u001b[0m \u001b[0my6a\u001b[0m\u001b[1;33m,\u001b[0m\u001b[0mcolor\u001b[0m\u001b[1;33m=\u001b[0m\u001b[1;34m'tomato'\u001b[0m\u001b[1;33m,\u001b[0m \u001b[0mmarker\u001b[0m\u001b[1;33m=\u001b[0m\u001b[1;34m'^'\u001b[0m\u001b[1;33m,\u001b[0m \u001b[0ms\u001b[0m\u001b[1;33m=\u001b[0m\u001b[1;36m56\u001b[0m\u001b[1;33m,\u001b[0m \u001b[0mlabel\u001b[0m\u001b[1;33m=\u001b[0m\u001b[1;34m'1mm Spacing '\u001b[0m\u001b[1;33m)\u001b[0m\u001b[1;33m\u001b[0m\u001b[1;33m\u001b[0m\u001b[0m\n\u001b[0;32m      4\u001b[0m \u001b[0mplt\u001b[0m\u001b[1;33m.\u001b[0m\u001b[0merrorbar\u001b[0m\u001b[1;33m(\u001b[0m\u001b[0mx9a\u001b[0m\u001b[1;33m,\u001b[0m \u001b[0my9a\u001b[0m\u001b[1;33m,\u001b[0m \u001b[0mxerr\u001b[0m\u001b[1;33m=\u001b[0m\u001b[0mxerr9\u001b[0m\u001b[1;33m,\u001b[0m \u001b[0myerr\u001b[0m\u001b[1;33m=\u001b[0m\u001b[0myerr9\u001b[0m\u001b[1;33m,\u001b[0m \u001b[0mls\u001b[0m\u001b[1;33m=\u001b[0m\u001b[1;34m''\u001b[0m\u001b[1;33m,\u001b[0m \u001b[0mcolor\u001b[0m\u001b[1;33m=\u001b[0m\u001b[1;34m'tomato'\u001b[0m\u001b[1;33m,\u001b[0m \u001b[0mmarker\u001b[0m\u001b[1;33m=\u001b[0m\u001b[1;34m's'\u001b[0m\u001b[1;33m,\u001b[0m \u001b[0mms\u001b[0m\u001b[1;33m=\u001b[0m\u001b[1;36m8\u001b[0m\u001b[1;33m)\u001b[0m\u001b[1;33m\u001b[0m\u001b[1;33m\u001b[0m\u001b[0m\n\u001b[0;32m      5\u001b[0m \u001b[0mplt\u001b[0m\u001b[1;33m.\u001b[0m\u001b[0mscatter\u001b[0m\u001b[1;33m(\u001b[0m\u001b[0mx9a\u001b[0m\u001b[1;33m,\u001b[0m \u001b[0my9a\u001b[0m\u001b[1;33m,\u001b[0m\u001b[0mcolor\u001b[0m\u001b[1;33m=\u001b[0m\u001b[1;34m'tomato'\u001b[0m\u001b[1;33m,\u001b[0m \u001b[0mmarker\u001b[0m\u001b[1;33m=\u001b[0m\u001b[1;34m's'\u001b[0m\u001b[1;33m,\u001b[0m \u001b[0ms\u001b[0m\u001b[1;33m=\u001b[0m\u001b[1;36m56\u001b[0m\u001b[1;33m,\u001b[0m \u001b[0mlabel\u001b[0m\u001b[1;33m=\u001b[0m\u001b[1;34m'1cm Spacing'\u001b[0m\u001b[1;33m)\u001b[0m\u001b[1;33m\u001b[0m\u001b[1;33m\u001b[0m\u001b[0m\n",
      "\u001b[1;31mNameError\u001b[0m: name 'x6a' is not defined"
     ]
    },
    {
     "data": {
      "image/png": "[encoded data removed]",
      "text/plain": [
       "<Figure size 432x288 with 1 Axes>"
      ]
     },
     "metadata": {
      "needs_background": "light"
     },
     "output_type": "display_data"
    }
   ],
   "source": [
    "fig, ax = plt.subplots()\n",
    "plt.errorbar(x6a, y6a, xerr=xerr6, yerr=yerr6, ls='', color='tomato', marker='^', ms=8)\n",
    "plt.scatter(x6a, y6a,color='tomato', marker='^', s=56, label='1mm Spacing ')\n",
    "plt.errorbar(x9a, y9a, xerr=xerr9, yerr=yerr9, ls='', color='tomato', marker='s', ms=8)\n",
    "plt.scatter(x9a, y9a,color='tomato', marker='s', s=56, label='1cm Spacing')\n",
    "plt.errorbar(x12a, y12a, xerr=xerr12, yerr=yerr12, ls='', color='tomato', marker='X', ms=8)\n",
    "plt.scatter(x12a, y12a,color='tomato', marker='X', s=56, label='5mm Spacing - (1 to 10)')\n",
    "plt.errorbar(x13a,y13a, xerr=xerr13, yerr=yerr13, ls='', color='blueviolet', marker='X', ms=8)\n",
    "plt.scatter(x13a,y13a,  color='blueviolet', marker='X', s=56, label='5mm Spacing - (10 to 1)')\n",
    "plt.errorbar(x14a,y14a, xerr=xerr14, yerr=yerr14, ls='', color='blueviolet', marker='^', ms=8)\n",
    "plt.scatter(x14a,y14a,  color='blueviolet', marker='^', s=56, label='1mm Spacing - (Test 2)')\n",
    "plt.errorbar(x15a,y15a, xerr=xerr15, yerr=yerr15, ls='', color='dodgerblue', marker='^', ms=8)\n",
    "plt.scatter(x15a,y15a,  color='dodgerblue', marker='^', s=56, label='1mm Spacing')\n",
    "plt.errorbar(x16a,y16a, xerr=xerr16, yerr=yerr16, ls='', color='dodgerblue', marker='^', ms=8)\n",
    "plt.scatter(x16a,y16a,  color='dodgerblue', marker='^', s=56, label='1mm Spacing - (Test 3)')\n",
    "plt.errorbar(x17a,y17a, xerr=xerr17, yerr=yerr17, ls='', color='blueviolet', marker='.', ms=8)\n",
    "plt.scatter(x17a,y17a,  color='blueviolet', marker='.', s=56, label='0.1mm Spacing')\n",
    "plt.errorbar(x18a,y18a, xerr=xerr18, yerr=yerr18, ls='', color='blueviolet', marker='.', ms=8)\n",
    "plt.scatter(x18a,y18a,  color='blueviolet', marker='.', s=56, label='0.1mm Spacing')\n",
    "\n",
    "# plt.errorbar(pd_10mil,v_10mil, xerr=pd10mil_err, yerr=v10mil_err, ls='', marker='o', color='r')\n",
    "# plt.errorbar(pd_10mil,v_10mil, ls='', marker='o', color='r', label='Katherine\\'s Data')\n",
    "# plt.errorbar(lep*.52*760,ledatm, xerr=.125*760, yerr=leerr*1000, ls='', marker='o', color='b')\n",
    "# plt.errorbar(lep*.52*760,ledatm, ls='', marker='o', color='b', label='Leslie\\'s Data')\n",
    "\n",
    "ax.set_yscale('log')\n",
    "ax.set_xscale('log')\n",
    "fig.set_figheight(10)\n",
    "fig.set_figwidth(15)\n",
    "\n",
    "plt.plot(p, Vb, label='Original Paschen Curve Formula')\n",
    "\n",
    "# plt.plot(p, Vb2, label='Meek Criterion Formula')\n",
    "\n",
    "# plt.plot(p, Vb3, label='Modified Formula')\n",
    "\n",
    "\n",
    "plt.xlabel('Pressure-Length, torr-cm', fontsize=24)\n",
    "plt.ylabel('Voltage at Breakdown, V', fontsize=24)\n",
    "plt.legend(fontsize=18, borderaxespad=1, loc=\"upper left\")\n",
    "plt.xticks(fontsize=20)\n",
    "plt.yticks(fontsize=20)\n",
    "# ax.set_ylim([30,1e6])\n",
    "# ax.set_xlim([1e-1,1e4])\n",
    "# pltplt.ylim(.grid())\n",
    "plt.tight_layout()\n",
    "\n",
    "# plt.savefig('Arlogplot5.png',dpi=400)\n",
    "\n",
    "plt.show()"
   ]
  },
  {
   "cell_type": "code",
   "execution_count": 106,
   "metadata": {},
   "outputs": [
    {
     "ename": "NameError",
     "evalue": "name 'p6a' is not defined",
     "output_type": "error",
     "traceback": [
      "\u001b[1;31m---------------------------------------------------------------------------\u001b[0m",
      "\u001b[1;31mNameError\u001b[0m                                 Traceback (most recent call last)",
      "\u001b[1;32m<ipython-input-106-22d73b5eb3aa>\u001b[0m in \u001b[0;36m<module>\u001b[1;34m\u001b[0m\n\u001b[0;32m      1\u001b[0m \u001b[0mfig\u001b[0m\u001b[1;33m,\u001b[0m \u001b[0max\u001b[0m \u001b[1;33m=\u001b[0m \u001b[0mplt\u001b[0m\u001b[1;33m.\u001b[0m\u001b[0msubplots\u001b[0m\u001b[1;33m(\u001b[0m\u001b[1;33m)\u001b[0m\u001b[1;33m\u001b[0m\u001b[1;33m\u001b[0m\u001b[0m\n\u001b[1;32m----> 2\u001b[1;33m \u001b[0mplt\u001b[0m\u001b[1;33m.\u001b[0m\u001b[0merrorbar\u001b[0m\u001b[1;33m(\u001b[0m\u001b[0mp6a\u001b[0m\u001b[1;33m,\u001b[0m \u001b[0mE6a\u001b[0m\u001b[1;33m,\u001b[0m \u001b[0mxerr\u001b[0m\u001b[1;33m=\u001b[0m\u001b[0mxerr6\u001b[0m\u001b[1;33m,\u001b[0m \u001b[0myerr\u001b[0m\u001b[1;33m=\u001b[0m\u001b[0myerr6\u001b[0m\u001b[1;33m,\u001b[0m \u001b[0mls\u001b[0m\u001b[1;33m=\u001b[0m\u001b[1;34m''\u001b[0m\u001b[1;33m,\u001b[0m \u001b[0mcolor\u001b[0m\u001b[1;33m=\u001b[0m\u001b[1;34m'tomato'\u001b[0m\u001b[1;33m,\u001b[0m \u001b[0mmarker\u001b[0m\u001b[1;33m=\u001b[0m\u001b[1;34m'^'\u001b[0m\u001b[1;33m,\u001b[0m \u001b[0mms\u001b[0m\u001b[1;33m=\u001b[0m\u001b[1;36m8\u001b[0m\u001b[1;33m)\u001b[0m\u001b[1;33m\u001b[0m\u001b[1;33m\u001b[0m\u001b[0m\n\u001b[0m\u001b[0;32m      3\u001b[0m \u001b[0mplt\u001b[0m\u001b[1;33m.\u001b[0m\u001b[0mscatter\u001b[0m\u001b[1;33m(\u001b[0m\u001b[0mp6a\u001b[0m\u001b[1;33m,\u001b[0m \u001b[0mE6a\u001b[0m\u001b[1;33m,\u001b[0m\u001b[0mcolor\u001b[0m\u001b[1;33m=\u001b[0m\u001b[1;34m'tomato'\u001b[0m\u001b[1;33m,\u001b[0m \u001b[0mmarker\u001b[0m\u001b[1;33m=\u001b[0m\u001b[1;34m'^'\u001b[0m\u001b[1;33m,\u001b[0m \u001b[0ms\u001b[0m\u001b[1;33m=\u001b[0m\u001b[1;36m56\u001b[0m\u001b[1;33m,\u001b[0m \u001b[0mlabel\u001b[0m\u001b[1;33m=\u001b[0m\u001b[1;34m'1mm Spacing - Argon'\u001b[0m\u001b[1;33m)\u001b[0m\u001b[1;33m\u001b[0m\u001b[1;33m\u001b[0m\u001b[0m\n\u001b[0;32m      4\u001b[0m \u001b[0mplt\u001b[0m\u001b[1;33m.\u001b[0m\u001b[0merrorbar\u001b[0m\u001b[1;33m(\u001b[0m\u001b[0mp9a\u001b[0m\u001b[1;33m,\u001b[0m \u001b[0mE9a\u001b[0m\u001b[1;33m,\u001b[0m \u001b[0mxerr\u001b[0m\u001b[1;33m=\u001b[0m\u001b[0mxerr9\u001b[0m\u001b[1;33m,\u001b[0m \u001b[0myerr\u001b[0m\u001b[1;33m=\u001b[0m\u001b[0myerr9\u001b[0m\u001b[1;33m,\u001b[0m \u001b[0mls\u001b[0m\u001b[1;33m=\u001b[0m\u001b[1;34m''\u001b[0m\u001b[1;33m,\u001b[0m \u001b[0mcolor\u001b[0m\u001b[1;33m=\u001b[0m\u001b[1;34m'tomato'\u001b[0m\u001b[1;33m,\u001b[0m \u001b[0mmarker\u001b[0m\u001b[1;33m=\u001b[0m\u001b[1;34m's'\u001b[0m\u001b[1;33m,\u001b[0m \u001b[0mms\u001b[0m\u001b[1;33m=\u001b[0m\u001b[1;36m8\u001b[0m\u001b[1;33m)\u001b[0m\u001b[1;33m\u001b[0m\u001b[1;33m\u001b[0m\u001b[0m\n\u001b[0;32m      5\u001b[0m \u001b[0mplt\u001b[0m\u001b[1;33m.\u001b[0m\u001b[0mscatter\u001b[0m\u001b[1;33m(\u001b[0m\u001b[0mp9a\u001b[0m\u001b[1;33m,\u001b[0m \u001b[0mE9a\u001b[0m\u001b[1;33m,\u001b[0m\u001b[0mcolor\u001b[0m\u001b[1;33m=\u001b[0m\u001b[1;34m'tomato'\u001b[0m\u001b[1;33m,\u001b[0m \u001b[0mmarker\u001b[0m\u001b[1;33m=\u001b[0m\u001b[1;34m's'\u001b[0m\u001b[1;33m,\u001b[0m \u001b[0ms\u001b[0m\u001b[1;33m=\u001b[0m\u001b[1;36m56\u001b[0m\u001b[1;33m,\u001b[0m \u001b[0mlabel\u001b[0m\u001b[1;33m=\u001b[0m\u001b[1;34m'1cm Spacing - Argon'\u001b[0m\u001b[1;33m)\u001b[0m\u001b[1;33m\u001b[0m\u001b[1;33m\u001b[0m\u001b[0m\n",
      "\u001b[1;31mNameError\u001b[0m: name 'p6a' is not defined"
     ]
    },
    {
     "data": {
      "image/png": "[encoded data removed]",
      "text/plain": [
       "<Figure size 432x288 with 1 Axes>"
      ]
     },
     "metadata": {
      "needs_background": "light"
     },
     "output_type": "display_data"
    }
   ],
   "source": [
    "fig, ax = plt.subplots()\n",
    "plt.errorbar(p6a, E6a, xerr=xerr6, yerr=yerr6, ls='', color='tomato', marker='^', ms=8)\n",
    "plt.scatter(p6a, E6a,color='tomato', marker='^', s=56, label='1mm Spacing - Argon')\n",
    "plt.errorbar(p9a, E9a, xerr=xerr9, yerr=yerr9, ls='', color='tomato', marker='s', ms=8)\n",
    "plt.scatter(p9a, E9a,color='tomato', marker='s', s=56, label='1cm Spacing - Argon')\n",
    "plt.errorbar(p12a, E12a, xerr=xerr12, yerr=yerr12, ls='', color='tomato', marker='X', ms=8)\n",
    "plt.scatter(p12a, E12a,color='tomato', marker='X', s=56, label='5mm Spacing - Argon (1 to 10)')\n",
    "plt.errorbar(p13a,E13a, xerr=xerr13, yerr=yerr13, ls='', color='blueviolet', marker='X', ms=8)\n",
    "plt.scatter(p13a,E13a,  color='blueviolet', marker='X', s=56, label='5mm Spacing - Argon (10 to 1)')\n",
    "plt.errorbar(p14a,E14a, xerr=xerr14, yerr=yerr14, ls='', color='blueviolet', marker='^', ms=8)\n",
    "plt.scatter(p14a,E14a,  color='blueviolet', marker='^', s=56, label='1mm Spacing - Argon (Test 2)')\n",
    "plt.errorbar(p15a,E15a, xerr=xerr15, yerr=yerr15, ls='', color='dodgerblue', marker='^', ms=8)\n",
    "plt.scatter(p15a,E15a,  color='dodgerblue', marker='^', s=56, label='1mm Spacing - Argon')\n",
    "plt.errorbar(p16a,E16a, xerr=xerr16, yerr=yerr16, ls='', color='dodgerblue', marker='^', ms=8)\n",
    "plt.scatter(p16a,E16a,  color='dodgerblue', marker='^', s=56, label='1mm Spacing - Argon (Test 3)')\n",
    "\n",
    "\n",
    "# plt.errorbar(pd_10mil,v_10mil, xerr=pd10mil_err, yerr=v10mil_err, ls='', marker='o', color='r')\n",
    "# plt.errorbar(pd_10mil,v_10mil, ls='', marker='o', color='r', label='Katherine\\'s Data')\n",
    "# plt.errorbar(lep*.52*760,ledatm, xerr=.125*760, yerr=leerr*1000, ls='', marker='o', color='b')\n",
    "# plt.errorbar(lep*.52*760,ledatm, ls='', marker='o', color='b', label='Leslie\\'s Data')\n",
    "\n",
    "# ax.set_yscale('log')\n",
    "# ax.set_xscale('log')\n",
    "fig.set_figheight(10)\n",
    "fig.set_figwidth(15)\n",
    "\n",
    "plt.plot(p, Vb, label='Original Paschen Curve Formula')\n",
    "\n",
    "# plt.plot(p, Vb2, label='Meek Criterion Formula')\n",
    " \n",
    "# plt.plot(p, Vb3, label='Modified Formula')\n",
    "\n",
    "\n",
    "plt.xlabel('Pressure, torr', fontsize=18)\n",
    "plt.ylabel('Electric Field at Breakdown, V/cm', fontsize=18)\n",
    "plt.legend(fontsize=18, borderaxespad=1, loc=\"upper left\")\n",
    "plt.xticks(fontsize=18)\n",
    "plt.yticks(fontsize=18)\n",
    "# ax.set_ylim([10,1e5])\n",
    "# ax.set_xlim([1e-1,5e4])\n",
    "# pltplt.ylim(.grid())\n",
    "plt.tight_layout()\n",
    "\n",
    "plt.show()"
   ]
  },
  {
   "cell_type": "code",
   "execution_count": 22,
   "metadata": {},
   "outputs": [
    {
     "name": "stderr",
     "output_type": "stream",
     "text": [
      "D:\\work\\HVBreakdown\\dataprocesser.py:46: RankWarning: Polyfit may be poorly conditioned\n",
      "  coeffs = np.polyfit(x, ya, 1)\n"
     ]
    },
    {
     "data": {
      "image/png": "[encoded data removed]",
      "text/plain": [
       "<Figure size 1080x720 with 1 Axes>"
      ]
     },
     "metadata": {
      "needs_background": "light"
     },
     "output_type": "display_data"
    }
   ],
   "source": [
    "#Time Dependance Study\n",
    "fig, ax = plt.subplots()\n",
    "pt=[1,1,1,1,1,1,1,1,1,1] #bar\n",
    "\n",
    "t = [0,.5,1.5,2,2.5,3,3.5,4,4.5,24] #hours\n",
    "\n",
    "vt=[[12.4,11.4,11.2],[11.9,11.2,11.2],[11.2,11.3,11.2],[11.3,11.1,11.1],[11.1,11.2,11.1],[11.2,11.1,11.1],[11.0,11.0,11.0],[11.1,11.0,11.1],[11.1,11.0,11.1],[11.2,11.2,11.1]] #kiloVolts\n",
    "\n",
    "vtave,vterr,ptave,pterr,trend = processdat(pt,vt,'10mm','GP')\n",
    "\n",
    "plt.errorbar(t,vtave, xerr=None, yerr=vterr, ls='', marker='o', color='b')\n",
    "plt.errorbar(t,vtave, ls='', marker='o', color='b', label='ArCH4 - 1 Bar-cm')\n",
    "\n",
    "fig.set_figheight(10)\n",
    "fig.set_figwidth(15)\n",
    "\n",
    "plt.xlabel('Time Elapsed, Hours', fontsize=18)\n",
    "plt.ylabel('Electric Field at Breakdown, V', fontsize=18)\n",
    "plt.legend(fontsize=18, borderaxespad=1, loc=\"upper left\")\n",
    "plt.xticks(fontsize=18)\n",
    "plt.yticks(fontsize=18)\n",
    "plt.tight_layout()\n",
    "\n",
    "plt.show()"
   ]
  },
  {
   "cell_type": "code",
   "execution_count": null,
   "metadata": {},
   "outputs": [],
   "source": []
  }
 ],
 "metadata": {
  "kernelspec": {
   "display_name": "Python 3",
   "language": "python",
   "name": "python3"
  },
  "language_info": {
   "codemirror_mode": {
    "name": "ipython",
    "version": 3
   },
   "file_extension": ".py",
   "mimetype": "text/x-python",
   "name": "python",
   "nbconvert_exporter": "python",
   "pygments_lexer": "ipython3",
   "version": "3.7.4"
  }
 },
 "nbformat": 4,
 "nbformat_minor": 2
}
